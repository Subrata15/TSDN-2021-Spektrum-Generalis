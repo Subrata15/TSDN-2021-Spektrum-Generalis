{
 "cells": [
  {
   "cell_type": "markdown",
   "metadata": {},
   "source": [
    "# A. Highlight Challenge \n",
    "\n",
    "1. Analisis Deskripsi kondisi pandemi terhadap sektor swasta, pemerintah (transportasi, pariwisata, dsb), dan sosial ekonomi<br>\n",
    "\n",
    "2. Rekomendasi dan saran terhadap kebijakan pemerintah untuk menyelamatkan sektor kritikal terdampak pandemi<br>\n",
    "\n",
    "3. Rekomendasi value bisnis terhadap sektor swasta dan pemerintah untuk bertahan dan membuka peluang baru<br>\n"
   ]
  },
  {
   "cell_type": "markdown",
   "metadata": {},
   "source": [
    "# B. Highlight Dataset\n",
    "\n",
    "### Coverage Area\n",
    "- DKI Jakarta\n",
    "\n",
    "### Topik Dataset:\n",
    "- Kesehatan<br>\n",
    "- Transportasi<br>\n",
    "- Sosial Ekonomi<br>\n",
    "\n",
    "\n",
    "![alt text](img/sumber_dataset.png \"Prosentase Sumber Dataset\")\n",
    "\n",
    "<br />\n",
    "\n",
    "Daftar sitasi lengkap sumber dataset: [Sumber Data](https://docs.google.com/spreadsheets/d/1ilxNf37yFyXJZm5puQ8GbRXJ4B9MVlDu_JVkRrz99EA/edit?usp=sharing) ⬅️🔴🔴🔴"
   ]
  },
  {
   "cell_type": "markdown",
   "metadata": {},
   "source": [
    "<br>"
   ]
  },
  {
   "cell_type": "markdown",
   "metadata": {},
   "source": [
    "<br>"
   ]
  },
  {
   "cell_type": "markdown",
   "metadata": {},
   "source": [
    "<br>"
   ]
  },
  {
   "cell_type": "markdown",
   "metadata": {},
   "source": [
    "## 1. Exploratory Data Analysis (Analisis Deskripsi)\n",
    "- Using Agregated Data to get insight and hypothesis before analysis<br>\n",
    "- Point of View<br>\n",
    "- Analisis"
   ]
  },
  {
   "cell_type": "markdown",
   "metadata": {},
   "source": [
    "### a. Using Agregated Data to get insight and hypothesis before analysis\n",
    "\n",
    "#### Kondisi kesehatan | Sumber data: Internal + Eksternal\n",
    "\n",
    "- Grafik Harian Kasus baru COVID-19 DKI Jakarta\n",
    "\n",
    "![alt text](img/covif_harian_jkt.png \"Grafik Harian Kasus baru COVID-19 DKI Jakarta\")\n",
    "\n",
    "- Perkembangan total penerimaan dosis Vaksin pertama dan kedua\n",
    "\n",
    "![alt text](img/vaksinasi_jkt.png \"Vaksin pertama dan kedua\")"
   ]
  },
  {
   "cell_type": "markdown",
   "metadata": {},
   "source": [
    "#### Kondisi ekonomi | Sumber data: Eksternal\n",
    "\n",
    "- Indeks Kepercayaan konsumen<br>\n",
    "Indikator kepercayaan konsumen ini memberikan indikasi perkembangan konsumsi dan tabungan rumah tangga di masa depan, berdasarkan jawaban mengenai situasi keuangan yang diharapkan, sentimen mereka tentang situasi ekonomi secara umum, pengangguran dan kemampuan tabungan. Indikator di atas 100 menandakan peningkatan kepercayaan konsumen terhadap situasi ekonomi masa depan, sebagai akibatnya mereka cenderung tidak menabung, dan lebih cenderung menghabiskan uang untuk pembelian besar dalam 12 bulan ke depan. Nilai di bawah 100 menunjukkan sikap pesimistis terhadap perkembangan ekonomi di masa depan, yang mungkin mengakibatkan kecenderungan untuk menabung lebih banyak dan mengurangi konsumsi (OECD Data, 2021).<br> [Sumber](https://data.oecd.org/leadind/consumer-confidence-index-cci.html)\n",
    "\n",
    "- Grafik Bulanan Indeks kepercayaan konsumen DKI Jakarta\n",
    "![alt text](img/ikk.png \"Indeks kepercayaan konsumen DKI Jakarta\")"
   ]
  },
  {
   "cell_type": "markdown",
   "metadata": {},
   "source": [
    "### b. Point of View\n",
    "⭐⭐⭐\n",
    "#### b.1. Insight\n",
    "- Kasus baru COVID-19 melonjak tajam pada pertengahan tahun 2020, awal tahun 2021 dan pertengahan tahun 2021<br>\n",
    "- Penurunan kasus baru mulai terjadi sejalan dengan meningkatnya total persentase vaksinasi COVID-19 dosis pertama dan dosis kedua<br>\n",
    "- Indeks Kepercayaan Konsumen memiliki tren yang terlihat serupa dengan jumlah kasus baru COVID-19 pada pertengahan tahun 2020, awal tahun 2021 dan pertengahan tahun 2021 yang terlihat memburuk yaitu nilai indeks berada dibawah 100<br>\n",
    "- **Dengan menjadikan data kasus harian dan vaksinasi sebagai representasi kondisi pandemi dari sisi kesehatan dan data indeks kepercayaan konsumen sebagai representasi data kondisi pandemi dari sisi ekonomi, konteks permasalahan yang penting untuk dianalisis adalah bagaimana meningkatkan value bisnis dari sisi ekonomi dengan tetap mempertimbangkan aspek kesehatan secara fair menggunakan Descriptive Analytics maupun Statistical Inference dan Machine Learning**.\n",
    "\n",
    "#### b.2. North Star Metric\n",
    "\n",
    "## <center>\"Bagaimana rekomendasi dan saran untuk mempertahankan atau bahkan memulihkan beberapa sektor ekonomi dengan tetap mempertimbangkan aspek kesehatan untuk saat ini maupun kedepannya?\"\n",
    "\n",
    "#### b.3. Approach\n",
    "\n",
    "- Kenapa sektor ekonomi menjadi penting untuk dianalisis?<br>\n",
    "    - Karena sektor ekonomi merupakan sektor yang melingkupi hajat hidup banyak orang meliputi institusi formal, pariwisata, dan sosial.<br>\n",
    "- Kenapa mempertimbangkan aspek kesehatan(COVID-19)?<br>\n",
    "    - Karena concern utama saat ini sebenarnya adalah bagaimana menekan kasus COVID-19 dengan tidak menggunakan solusi dari aspek kesehatan saja sebagai solusi tunggal, namun dalam kasus ini aspek ekonomi terdampak perlu dipertimbangkan dan begitupun sebaliknya.<br>\n",
    "- Apa yang dimaksud mempertahankan atau bahkan memulihkan beberapa sektor ekonomi?<br>\n",
    "    - Solusi tunggal bukanlah rekomendasi yang bijak saat ini, konteks mempertahankan sektor ekonomi adalah bagaimana keberlangsungan supply dan demand tetap berjalan pada skala minimum untuk menjaga nafas perekonomian sembari menunggu situasi kesehatan mencapai kondisi yang lebih aman.<br>\n",
    "- Apa yang dimaksud waktu saat ini maupun kedepannya?<br>\n",
    "    - Dari data yang kita miliki, hingga saat ini kasus baru COVID-19 mengalami penurunan dan dilihat dari Indeks kepercayaan konsumen per Agustus 2021, terlihat tren meningkat dari 80,1 menjadi 94,8 yang diperkirakan akan terus meningkat seiring dengan menurunnya kasus baru COVID-19 dan bertambahnya persentase vaksinasi. Namun kita perlu mengantisipasi kondisi tidak pasti di masa depan. Apabila terjadi kembali perburukan dari sisi kesehatan yang akan berdampak pada ekonomi, solusi baru yang bisa kita hadirkan perlu dipertimbangkan kembali dengan menggunakan data yang ada."
   ]
  },
  {
   "cell_type": "markdown",
   "metadata": {},
   "source": [
    "### c. Analisis\n",
    "- Uji Hipotesis H0: Angka positif bulanan tidak memiliki korelasi yang kuat dengan IKK<br>\n",
    "- Analisis Deskriptif Tingkat Pengangguran Terbuka<br>\n",
    "- Analisis Deskriptif Kerugian akibat Pandemi pada Moda Transportasi Umum milik BUMD DKI Jakarta(MRT, LRT, dan Transjakarta)<br>\n",
    "- Analisis Deskriptif Kerugian akibat Pandemi pada Kapal Cepat milik Swasta, Koperasi, dan Dishub DKI Jakarta di Kepulauan Seribu"
   ]
  },
  {
   "cell_type": "code",
   "execution_count": 1,
   "metadata": {},
   "outputs": [],
   "source": [
    "# import library data processing\n",
    "import pandas as pd\n",
    "import numpy as np\n",
    "\n",
    "# import library for visualize\n",
    "import matplotlib.pyplot as plt\n",
    "import seaborn as sns\n",
    "\n",
    "# import self module\n",
    "from prepare_load import *\n",
    "\n",
    "# import ML library\n",
    "from sklearn.linear_model import LinearRegression\n",
    "from sklearn.linear_model import LogisticRegression\n",
    "from sklearn.model_selection import train_test_split\n",
    "from statsmodels.formula.api import ols"
   ]
  },
  {
   "cell_type": "code",
   "execution_count": 2,
   "metadata": {},
   "outputs": [],
   "source": [
    "# path dataset\n",
    "path_main = \"dat_filtered/\"\n",
    "df_filter = \"dfilter-2019-2021.xlsx\"\n",
    "mobilty_goole_path = \"2020_ID_Region_Mobility_Report.csv\"\n",
    "df_kapal_pelabuhan = \"dataframe_pivot_pelabuhan_v2.xlsx\"\n",
    "tj_compare = \"Jumlah Penumpang dan Pendapatan Trans Jakarta menurut Koridor_Rute.xlsx\"\n",
    "\n",
    "sheet_cci = \"cci_DKI_2\"\n",
    "sheet_hipo = \"hipo\"\n",
    "sheet_daily_cvd = \"cvd_daily_dki\"\n",
    "sheet_montly = \"dff_ini\"\n",
    "sheet_tpt_year = \"tpt_only\"\n",
    "\n",
    "# load dataset\n",
    "df_month = pd.read_excel(path_main+df_filter, sheet_name=sheet_montly)\n",
    "df_hipo = pd.read_excel(path_main+df_filter, sheet_name=sheet_hipo)\n",
    "df_mobility = pd.read_csv(path_main+mobilty_goole_path)\n",
    "tj_compare = pd.read_excel(path_main+tj_compare)\n",
    "df_tpt = pd.read_excel(path_main+df_filter, sheet_name=sheet_tpt_year)\n",
    "df_cvd_daily = pd.read_excel(path_main+df_filter, sheet_name=sheet_daily_cvd)"
   ]
  },
  {
   "cell_type": "markdown",
   "metadata": {},
   "source": [
    "### c.1. Uji HIpotesis"
   ]
  },
  {
   "cell_type": "code",
   "execution_count": 3,
   "metadata": {},
   "outputs": [
    {
     "name": "stdout",
     "output_type": "stream",
     "text": [
      "##################### Shape ###################\n",
      "(32, 2)\n",
      " \n",
      "##################### Types ###################\n",
      "Positif_Bulanan      int64\n",
      "CCI                float64\n",
      "dtype: object\n",
      " \n",
      "##################### Head ####################\n",
      "   Positif_Bulanan    CCI\n",
      "0                0  125.1\n",
      "1                0  124.0\n",
      "2                0  125.5\n",
      " \n",
      "##################### Tail ####################\n",
      "    Positif_Bulanan    CCI\n",
      "29           113409  108.4\n",
      "30           271185   80.1\n",
      "31            35930   94.8\n",
      " \n",
      "##################### NA #####################\n",
      "Positif_Bulanan    0\n",
      "CCI                0\n",
      "dtype: int64\n",
      " \n",
      "##################### Describe ################\n",
      "       Positif_Bulanan         CCI\n",
      "count        32.000000   32.000000\n",
      "mean      26580.718750  107.403125\n",
      "std       52715.906664   18.960408\n",
      "min           0.000000   67.900000\n",
      "25%           0.000000   92.900000\n",
      "50%        3265.500000  111.600000\n",
      "75%       31962.750000  124.275000\n",
      "max      271185.000000  135.600000\n"
     ]
    }
   ],
   "source": [
    "df_hipo = df_hipo[[\"Positif_Bulanan\", \"CCI\"]]\n",
    "df_hipo = df_hipo.dropna()\n",
    "fastDescribe(df_hipo)"
   ]
  },
  {
   "cell_type": "code",
   "execution_count": 4,
   "metadata": {
    "scrolled": false
   },
   "outputs": [
    {
     "data": {
      "image/png": "[encoded data removed]",
      "text/plain": [
       "<Figure size 1080x576 with 2 Axes>"
      ]
     },
     "metadata": {
      "needs_background": "light"
     },
     "output_type": "display_data"
    }
   ],
   "source": [
    "# visualize correlation pearson\n",
    "\n",
    "plt.figure(figsize=(15, 8))\n",
    "\n",
    "heatmap = sns.heatmap(df_hipo.corr(method=\"pearson\"), vmin=-1, vmax=1, annot=True)\n",
    "\n",
    "heatmap.set_title('Correlation Pearson: Kasus Positif COVID-19 Bulanan x Indeks Kepercayaan Konsumen Bulanan (IKK) Tahun 2019-2021', fontdict={'fontsize':14}, pad=20);"
   ]
  },
  {
   "cell_type": "markdown",
   "metadata": {},
   "source": [
    "![alt text](img/ikk_covid.png \"Kasus Positif COVID-19 Bulanan x Indeks Kepercayaan Konsumen Bulanan (IKK)\")"
   ]
  },
  {
   "cell_type": "code",
   "execution_count": 5,
   "metadata": {},
   "outputs": [
    {
     "data": {
      "image/png": "[encoded data removed]",
      "text/plain": [
       "<Figure size 1080x576 with 6 Axes>"
      ]
     },
     "metadata": {
      "needs_background": "light"
     },
     "output_type": "display_data"
    }
   ],
   "source": [
    "g = sns.pairplot(df_hipo,kind='scatter')\n",
    "g.fig.set_size_inches(15,8)\n",
    "plt.show()"
   ]
  },
  {
   "cell_type": "markdown",
   "metadata": {},
   "source": [
    "#### Pearson Correlation Equation:\n",
    "\n",
    "![alt text](img/corr_pearson_eq.png \"Pearson Correlation Equation\")"
   ]
  },
  {
   "cell_type": "code",
   "execution_count": 6,
   "metadata": {},
   "outputs": [
    {
     "name": "stdout",
     "output_type": "stream",
     "text": [
      "Check confidence of correlation\n",
      "                            OLS Regression Results                            \n",
      "==============================================================================\n",
      "Dep. Variable:        Positif_Bulanan   R-squared:                       0.184\n",
      "Model:                            OLS   Adj. R-squared:                  0.157\n",
      "Method:                 Least Squares   F-statistic:                     6.786\n",
      "Date:                Mon, 11 Oct 2021   Prob (F-statistic):             0.0142\n",
      "Time:                        16:25:31   Log-Likelihood:                -389.56\n",
      "No. Observations:                  32   AIC:                             783.1\n",
      "Df Residuals:                      30   BIC:                             786.1\n",
      "Df Model:                           1                                         \n",
      "Covariance Type:            nonrobust                                         \n",
      "==============================================================================\n",
      "                 coef    std err          t      P>|t|      [0.025      0.975]\n",
      "------------------------------------------------------------------------------\n",
      "Intercept   1.548e+05      5e+04      3.098      0.004    5.28e+04    2.57e+05\n",
      "CCI        -1194.1672    458.407     -2.605      0.014   -2130.360    -257.975\n",
      "==============================================================================\n",
      "Omnibus:                       45.082   Durbin-Watson:                   1.081\n",
      "Prob(Omnibus):                  0.000   Jarque-Bera (JB):              199.495\n",
      "Skew:                           2.964   Prob(JB):                     4.79e-44\n",
      "Kurtosis:                      13.700   Cond. No.                         637.\n",
      "==============================================================================\n",
      "\n",
      "Notes:\n",
      "[1] Standard Errors assume that the covariance matrix of the errors is correctly specified.\n"
     ]
    }
   ],
   "source": [
    "# check confidence of correlation\n",
    "print(\"Check confidence of correlation\")\n",
    "model = ols(\"Positif_Bulanan ~ CCI\", data=df_hipo).fit()\n",
    "print(model.summary())"
   ]
  },
  {
   "cell_type": "markdown",
   "metadata": {},
   "source": [
    "#### Hasil Uji Hipotesis\n",
    "🧩🧩🧩\n",
    "- Nilai korelasi Pearson Kasus Positif COVID-19 Bulanan x Indeks Kepercayaan Konsumen Bulanan (IKK) Tahun 2019-2021 sebesar -0,43.<br>\n",
    "- Nilai minus pada korelasi menandakan bahwa slope(garis miring) hubungan dua variabel bernilai negatif, semakin mendekati -1 berarti memiliki hubungan negatif yang kuat, dan sebaliknya.<br>\n",
    "- Untuk menilai signifikansi nilai korelasi, diperlukan p-value. P-value bernilai kecil menandakan H0 ditolak dan H alternatif diterima, pada hasil diatas nilai p-value sebesar 0,014, artinya 99% dua variabel memiliki hubungan yang kuat dan signifikan.<br>\n",
    "- **Uji hipotesis ini menunjukkan bahwa penambahan kasus harian COVID-19 berkorelasi negatif terhadap Indeks Kepercayaan Konsumen (IKK). Hal ini berarti semakin tinggi kasus harian/bulanan COVID-19 maka IKK akan cenderung menurun, semakin kecil nilai IKK maka menandakan pertumbuhan ekonomi yang melambat (Daskalopoulou Irene, 2014).**"
   ]
  },
  {
   "cell_type": "markdown",
   "metadata": {},
   "source": [
    "### c.2. Analisis Deskriptif Tingkat Pengangguran Terbuka"
   ]
  },
  {
   "cell_type": "markdown",
   "metadata": {},
   "source": [
    "![alt text](img/tpt_eq.png \"Tingkat Pengangguran Terbuka\")"
   ]
  },
  {
   "cell_type": "code",
   "execution_count": 7,
   "metadata": {},
   "outputs": [
    {
     "name": "stdout",
     "output_type": "stream",
     "text": [
      "##################### Shape ###################\n",
      "(5, 7)\n",
      " \n",
      "##################### Types ###################\n",
      "Tahun                 int64\n",
      "KEPULAUAN SERIBU    float64\n",
      "JAKARTA SELATAN     float64\n",
      "JAKARTA TIMUR       float64\n",
      "JAKARTA PUSAT       float64\n",
      "JAKARTA BARAT       float64\n",
      "JAKARTA UTARA       float64\n",
      "dtype: object\n",
      " \n",
      "##################### Head ####################\n",
      "   Tahun  KEPULAUAN SERIBU  JAKARTA SELATAN  JAKARTA TIMUR  JAKARTA PUSAT  \\\n",
      "0   2015              5.51             6.36           9.13           6.51   \n",
      "1   2017              7.33             6.86           7.80           6.82   \n",
      "2   2018              5.33             6.31           6.67           6.64   \n",
      "\n",
      "   JAKARTA BARAT  JAKARTA UTARA  \n",
      "0           6.31           7.11  \n",
      "1           6.40           7.67  \n",
      "2           5.00           7.01  \n",
      " \n",
      "##################### Tail ####################\n",
      "   Tahun  KEPULAUAN SERIBU  JAKARTA SELATAN  JAKARTA TIMUR  JAKARTA PUSAT  \\\n",
      "2   2018              5.33             6.31           6.67           6.64   \n",
      "3   2019              5.44             6.84           6.15           7.15   \n",
      "4   2020              7.37            10.79           9.29          10.97   \n",
      "\n",
      "   JAKARTA BARAT  JAKARTA UTARA  \n",
      "2           5.00           7.01  \n",
      "3           5.21           6.32  \n",
      "4          12.27          11.79  \n",
      " \n",
      "##################### NA #####################\n",
      "Tahun               0\n",
      "KEPULAUAN SERIBU    0\n",
      "JAKARTA SELATAN     0\n",
      "JAKARTA TIMUR       0\n",
      "JAKARTA PUSAT       0\n",
      "JAKARTA BARAT       0\n",
      "JAKARTA UTARA       0\n",
      "dtype: int64\n",
      " \n",
      "##################### Describe ################\n",
      "             Tahun  KEPULAUAN SERIBU  JAKARTA SELATAN  JAKARTA TIMUR  \\\n",
      "count     5.000000            5.0000         5.000000        5.00000   \n",
      "mean   2017.800000            6.1960         7.432000        7.80800   \n",
      "std       1.923538            1.0555         1.894854        1.41316   \n",
      "min    2015.000000            5.3300         6.310000        6.15000   \n",
      "25%    2017.000000            5.4400         6.360000        6.67000   \n",
      "50%    2018.000000            5.5100         6.840000        7.80000   \n",
      "75%    2019.000000            7.3300         6.860000        9.13000   \n",
      "max    2020.000000            7.3700        10.790000        9.29000   \n",
      "\n",
      "       JAKARTA PUSAT  JAKARTA BARAT  JAKARTA UTARA  \n",
      "count       5.000000       5.000000       5.000000  \n",
      "mean        7.618000       7.038000       7.980000  \n",
      "std         1.889172       2.991901       2.183209  \n",
      "min         6.510000       5.000000       6.320000  \n",
      "25%         6.640000       5.210000       7.010000  \n",
      "50%         6.820000       6.310000       7.110000  \n",
      "75%         7.150000       6.400000       7.670000  \n",
      "max        10.970000      12.270000      11.790000  \n"
     ]
    }
   ],
   "source": [
    "# fast Describe dataset\n",
    "fastDescribe(df_tpt)"
   ]
  },
  {
   "cell_type": "markdown",
   "metadata": {},
   "source": [
    "#### Grafik Visualisasi TIngkat Pengangguran Terbukan Tahun 2015, 2017, 2018, 2019, dan 2020 | Sumber Data: Eksternal\n",
    "![alt text](img/tpt_jkt.png \"Tingkat Pengangguran Terbuka\")"
   ]
  },
  {
   "cell_type": "markdown",
   "metadata": {},
   "source": [
    "#### Hasil TPT:\n",
    "🧩🧩🧩\n",
    "- Data TPT tersaji setahun sekali, cukup sulit untuk mendapatkan deskripsi detail bagaimana dinamika tingkat pengangguran setiap bulannya di masa pandemi, namun dari data tahunan ini terlihat peningkatan persentase TPT yang cukup tajam dari 2019 ke 2020, padahal persentase TPT dari tahun 2017-2019 cenderung menurun.<br>\n",
    "- Dampak pandemi menambah jumlah pengangguran karena berbagai faktor, sangat menarik untuk menganalisis lebih lanjut namun sayang data internal yang tersaji hanya data lampau dan kami belum menemukan data ***proxy*** yang relevan untuk melakukan analisis lebih lanjut.<br>\n",
    "- Dari grafik yang tersaji ada hal menarik yang muncul, yaitu Kota administrasi Jakarta Barat, Jakarta Utara, dan Jakarta Pusat memiliki prosentase TPT 2 digit. Padahal kota tersebut cenderung dekat dengan pusat fasilitas dan bisnis, seperti Jakarta Pusat dengan Monas dan Istana Negara, dan Jakarta Utara dengan Bandara Soekarno Hatta.<br>\n",
    "- Perlu analisis lebih lanjut mengapa Kota administrasi Jakarta Barat, Jakarta Utara, dan Jakarta Pusat memiliki jumlah pengangguran terbuka yang tinggi, untuk saat ini kami merekomendasikan agar pemerintah lebih mendukung sebaran program bantuan seperti **Prakerja** dan bantuan langsung di 3 kota administrasi tersebut. "
   ]
  },
  {
   "cell_type": "markdown",
   "metadata": {},
   "source": [
    "### c.3. Analisis Deskriptif Kerugian akibat Pandemi pada Moda Transportasi Umum milik BUMD DKI Jakarta(MRT, LRT, dan Transjakarta)\n"
   ]
  },
  {
   "cell_type": "markdown",
   "metadata": {},
   "source": [
    "##### c.3.1 MRT & LRT"
   ]
  },
  {
   "cell_type": "markdown",
   "metadata": {},
   "source": [
    "#### Kasus Positif COVID-19 Bulanan vs Jumlah Bulanan Penumpang MRT  & LRT | Sumber Data: Internal\n",
    "\n",
    "![alt text](img/covid_mrt.png \"Positif COVID-19 Bulanan vs Jumlah Bulanan Penumpang MRT\")\n",
    "\n",
    "![alt text](img/covid_lrt.png \"Positif COVID-19 Bulanan vs Jumlah Bulanan Penumpang LRT\")"
   ]
  },
  {
   "cell_type": "code",
   "execution_count": 8,
   "metadata": {},
   "outputs": [
    {
     "data": {
      "text/html": [
       "<div>\n",
       "<style scoped>\n",
       "    .dataframe tbody tr th:only-of-type {\n",
       "        vertical-align: middle;\n",
       "    }\n",
       "\n",
       "    .dataframe tbody tr th {\n",
       "        vertical-align: top;\n",
       "    }\n",
       "\n",
       "    .dataframe thead th {\n",
       "        text-align: right;\n",
       "    }\n",
       "</style>\n",
       "<table border=\"1\" class=\"dataframe\">\n",
       "  <thead>\n",
       "    <tr style=\"text-align: right;\">\n",
       "      <th></th>\n",
       "      <th>Positif_Bulanan</th>\n",
       "      <th>MRT</th>\n",
       "      <th>LRT</th>\n",
       "    </tr>\n",
       "  </thead>\n",
       "  <tbody>\n",
       "    <tr>\n",
       "      <th>0</th>\n",
       "      <td>0</td>\n",
       "      <td>2638464.0</td>\n",
       "      <td>118758.0</td>\n",
       "    </tr>\n",
       "    <tr>\n",
       "      <th>1</th>\n",
       "      <td>0</td>\n",
       "      <td>2564870.0</td>\n",
       "      <td>135477.0</td>\n",
       "    </tr>\n",
       "    <tr>\n",
       "      <th>2</th>\n",
       "      <td>741</td>\n",
       "      <td>1403638.0</td>\n",
       "      <td>60733.0</td>\n",
       "    </tr>\n",
       "    <tr>\n",
       "      <th>3</th>\n",
       "      <td>3397</td>\n",
       "      <td>121578.0</td>\n",
       "      <td>7312.0</td>\n",
       "    </tr>\n",
       "    <tr>\n",
       "      <th>4</th>\n",
       "      <td>3134</td>\n",
       "      <td>43544.0</td>\n",
       "      <td>5960.0</td>\n",
       "    </tr>\n",
       "  </tbody>\n",
       "</table>\n",
       "</div>"
      ],
      "text/plain": [
       "   Positif_Bulanan        MRT       LRT\n",
       "0                0  2638464.0  118758.0\n",
       "1                0  2564870.0  135477.0\n",
       "2              741  1403638.0   60733.0\n",
       "3             3397   121578.0    7312.0\n",
       "4             3134    43544.0    5960.0"
      ]
     },
     "execution_count": 8,
     "metadata": {},
     "output_type": "execute_result"
    }
   ],
   "source": [
    "df_mrt = df_month[[\"Positif_Bulanan\", \"MRT\", \"LRT\"]]\n",
    "df_mrt.head()"
   ]
  },
  {
   "cell_type": "code",
   "execution_count": 9,
   "metadata": {},
   "outputs": [
    {
     "data": {
      "image/png": "[encoded data removed]",
      "text/plain": [
       "<Figure size 864x432 with 2 Axes>"
      ]
     },
     "metadata": {
      "needs_background": "light"
     },
     "output_type": "display_data"
    }
   ],
   "source": [
    "# visualize correlation pearson\n",
    "\n",
    "plt.figure(figsize=(12, 6))\n",
    "\n",
    "heatmap = sns.heatmap(df_mrt.corr(method=\"pearson\"), vmin=-1, vmax=1, annot=True)\n",
    "\n",
    "heatmap.set_title('Correlation Pearson: Kasus Positif COVID-19 Bulanan vs Jumlah Bulanan Penumpang MRT Tahun 2020', fontdict={'fontsize':14}, pad=20);"
   ]
  },
  {
   "cell_type": "code",
   "execution_count": 10,
   "metadata": {},
   "outputs": [
    {
     "name": "stdout",
     "output_type": "stream",
     "text": [
      "Check confidence of correlation Positif_Bulanan x LRT\n",
      "                            OLS Regression Results                            \n",
      "==============================================================================\n",
      "Dep. Variable:        Positif_Bulanan   R-squared:                       0.184\n",
      "Model:                            OLS   Adj. R-squared:                  0.102\n",
      "Method:                 Least Squares   F-statistic:                     2.256\n",
      "Date:                Mon, 11 Oct 2021   Prob (F-statistic):              0.164\n",
      "Time:                        16:25:31   Log-Likelihood:                -131.83\n",
      "No. Observations:                  12   AIC:                             267.7\n",
      "Df Residuals:                      10   BIC:                             268.6\n",
      "Df Model:                           1                                         \n",
      "Covariance Type:            nonrobust                                         \n",
      "==============================================================================\n",
      "                 coef    std err          t      P>|t|      [0.025      0.975]\n",
      "------------------------------------------------------------------------------\n",
      "Intercept   2.203e+04   6356.458      3.466      0.006    7867.918    3.62e+04\n",
      "LRT           -0.1655      0.110     -1.502      0.164      -0.411       0.080\n",
      "==============================================================================\n",
      "Omnibus:                        0.853   Durbin-Watson:                   0.314\n",
      "Prob(Omnibus):                  0.653   Jarque-Bera (JB):                0.759\n",
      "Skew:                           0.455   Prob(JB):                        0.684\n",
      "Kurtosis:                       2.169   Cond. No.                     8.12e+04\n",
      "==============================================================================\n",
      "\n",
      "Notes:\n",
      "[1] Standard Errors assume that the covariance matrix of the errors is correctly specified.\n",
      "[2] The condition number is large, 8.12e+04. This might indicate that there are\n",
      "strong multicollinearity or other numerical problems.\n"
     ]
    },
    {
     "name": "stderr",
     "output_type": "stream",
     "text": [
      "/home/brata_ari/envme/py37/lib/python3.7/site-packages/scipy/stats/stats.py:1542: UserWarning: kurtosistest only valid for n>=20 ... continuing anyway, n=12\n",
      "  \"anyway, n=%i\" % int(n))\n"
     ]
    }
   ],
   "source": [
    "# check confidence of correlation\n",
    "print(\"Check confidence of correlation Positif_Bulanan x LRT\")\n",
    "model = ols(\"Positif_Bulanan ~ LRT\", data=df_mrt).fit()\n",
    "print(model.summary())"
   ]
  },
  {
   "cell_type": "code",
   "execution_count": 11,
   "metadata": {},
   "outputs": [
    {
     "name": "stdout",
     "output_type": "stream",
     "text": [
      "Check confidence of correlation Positif_Bulanan x MRT\n",
      "                            OLS Regression Results                            \n",
      "==============================================================================\n",
      "Dep. Variable:        Positif_Bulanan   R-squared:                       0.190\n",
      "Model:                            OLS   Adj. R-squared:                  0.109\n",
      "Method:                 Least Squares   F-statistic:                     2.352\n",
      "Date:                Mon, 11 Oct 2021   Prob (F-statistic):              0.156\n",
      "Time:                        16:25:31   Log-Likelihood:                -131.78\n",
      "No. Observations:                  12   AIC:                             267.6\n",
      "Df Residuals:                      10   BIC:                             268.5\n",
      "Df Model:                           1                                         \n",
      "Covariance Type:            nonrobust                                         \n",
      "==============================================================================\n",
      "                 coef    std err          t      P>|t|      [0.025      0.975]\n",
      "------------------------------------------------------------------------------\n",
      "Intercept   2.197e+04   6250.203      3.515      0.006    8041.596    3.59e+04\n",
      "MRT           -0.0081      0.005     -1.534      0.156      -0.020       0.004\n",
      "==============================================================================\n",
      "Omnibus:                        0.756   Durbin-Watson:                   0.300\n",
      "Prob(Omnibus):                  0.685   Jarque-Bera (JB):                0.700\n",
      "Skew:                           0.432   Prob(JB):                        0.705\n",
      "Kurtosis:                       2.192   Cond. No.                     1.65e+06\n",
      "==============================================================================\n",
      "\n",
      "Notes:\n",
      "[1] Standard Errors assume that the covariance matrix of the errors is correctly specified.\n",
      "[2] The condition number is large, 1.65e+06. This might indicate that there are\n",
      "strong multicollinearity or other numerical problems.\n"
     ]
    },
    {
     "name": "stderr",
     "output_type": "stream",
     "text": [
      "/home/brata_ari/envme/py37/lib/python3.7/site-packages/scipy/stats/stats.py:1542: UserWarning: kurtosistest only valid for n>=20 ... continuing anyway, n=12\n",
      "  \"anyway, n=%i\" % int(n))\n"
     ]
    }
   ],
   "source": [
    "# check confidence of correlation\n",
    "print(\"Check confidence of correlation Positif_Bulanan x MRT\")\n",
    "model = ols(\"Positif_Bulanan ~ MRT\", data=df_mrt).fit()\n",
    "print(model.summary())"
   ]
  },
  {
   "cell_type": "markdown",
   "metadata": {},
   "source": [
    "#### Hasil LRT:\n",
    "🧩🧩🧩\n",
    "- Nilai korelasi Pearson Kasus Positif COVID-19 Bulanan x Jumlah Bulanan Penumpang LRT Tahun 2020 sebesar -0,43.<br>\n",
    "- Nilai minus pada korelasi menandakan bahwa slope(garis miring) hubungan dua variabel bernilai negatif, semakin mendekati -1 berarti memiliki hubungan negatif yang kuat, dan sebaliknya.<br>\n",
    "- Untuk melinai signifikansi nilai korelasi, diperlukan p-value. P-value bernilai kecil menandakan H0 ditolak dan H alternatif diterima, pada hasil diatas nilai p-value sebesar 0,164, artinya ~ 98% dua variabel memiliki hubungan yang kuat dan signifikan, namun masih ada kemungkinan terjadi karena kebetulan.<br>\n",
    "- **Data observasi yang terlalu kecil karena ketersediaan data internal hanya menyajikan data penumpang LRT 2020, maka hasil analisis ini masih membutuhkan eksperimen lebih lanjut. Namun karena konteks bisnis LRT masih dalam tahap pengembangan penyediaan, kami tidak melanjutkan analisis untuk moda transportasi LRT.**"
   ]
  },
  {
   "cell_type": "markdown",
   "metadata": {},
   "source": [
    "#### Hasil MRT:\n",
    "🧩🧩🧩\n",
    "- Nilai korelasi Pearson Kasus Positif COVID-19 Bulanan x Jumlah Bulanan Penumpang MRT Tahun 2020 sebesar -0,44.<br>\n",
    "- Nilai minus pada korelasi menandakan bahwa slope(garis miring) hubungan dua variabel bernilai negatif, semakin mendekati -1 berarti memiliki hubungan negatif yang kuat, dan sebaliknya.<br>\n",
    "- Untuk melinai signifikansi nilai korelasi, diperlukan p-value. P-value bernilai kecil menandakan H0 ditolak dan H alternatif diterima, pada hasil diatas nilai p-value sebesar 0,156, artinya ~ 98% dua variabel memiliki hubungan yang kuat dan signifikan, namun masih ada kemungkinan terjadi karena kebetulan.<br>\n",
    "- Data observasi 12 bulan diatas cenderung menunjukkan penurunan, namun PT MRT Jakarta justru mengklaim pendapatan mereka naik, ini menarik. [Strategi MRT](https://jakartamrt.co.id/id/info-terkini/strategi-pengembangan-bisnis-nontiket-mrt-jakarta-selama-pandemi), [Pendapatan Naik](https://metro.tempo.co/read/1489040/pandemi-covid-19-pendapatan-mrt-jakarta-di-luar-penjualan-tiket-justru-naik/full&view=ok) ⬅️🔴🔴🔴\n",
    "- Data observasi yang terlalu kecil karena ketersediaan data internal hanya menyajikan data penumpang MRT 2020, maka hasil analisis ini masih membutuhkan eksperimen lebih lanjut. **Langkah kami selanjutnya adalah mencoba membuat model Regresi MRT dengan menambah fitur lain yang relevan. To be continued**<br>\n",
    "- Apabila secara tren jumlah penumpang cenderung menurun, berkolerasi negatif kuat dan signifikan, namun **PT MRT Jakarta justru mengalami kenaikan keuntungan, maka ini adalah hal menarik yang patut dijadikan contoh di sektor transportasi lain dari sisi bisnis**."
   ]
  },
  {
   "cell_type": "markdown",
   "metadata": {},
   "source": [
    "##### c.3.2 Transjakarta"
   ]
  },
  {
   "cell_type": "markdown",
   "metadata": {},
   "source": [
    "#### Perbandingan Jumlah Bulanan Penumpang Transjakarta Sebelum Pandemi vs Awal Pandemi 2019 x 2020 | Sumber Data: Internal¶\n",
    "\n",
    "![alt text](img/tj_.png \"umlah Bulanan Penumpang Transjakarta Sebelum Pandemi vs Awal Pandemi 2019 x 2020\")"
   ]
  },
  {
   "cell_type": "markdown",
   "metadata": {},
   "source": [
    "#### Hasil Transjakarta:\n",
    "🧩🧩🧩\n",
    "\n",
    "- Data observasi yand kami dapatkan adalah agregat tahunan untuk 2 observasi, masing-masing 2019 dan 2020. Data observasi yang hanya dua point tidak dapat diproses analisis lebih lanjut pola hubungannya, karena akan memiliki nilai R^2 = 1, dan tidak cukup untuk dicari kesimpulan seberapa signifikan hubungan yang terjadi.<br>\n",
    "\n",
    "- Perbandingan jumlah penumpang tahun 2019 dan tahun 2020 menurun drastis hingga 50%. Penurunan ini berdampak pada kerugian yang dialami PT Transjakarta. [Kerugian](https://megapolitan.kompas.com/read/2020/07/01/06180841/pendapatan-perum-ppd-turun-hingga-80-persen-saat-pandemi-covid-19)⬅️🔴🔴🔴<br>\n",
    "\n",
    "- Kami tidak dapat melanjutkan analisis lebih lanjut karena kurangnya data internal dan eksternal yang dapat digunakan. <br>"
   ]
  },
  {
   "cell_type": "markdown",
   "metadata": {},
   "source": [
    "### c.4. <br> Analisis Deskriptif Kerugian akibat Pandemi pada Kapal Cepat milik Swasta, Koperasi, dan Dishub DKI Jakarta di Kepulauan Seribu"
   ]
  },
  {
   "cell_type": "code",
   "execution_count": 12,
   "metadata": {},
   "outputs": [
    {
     "name": "stdout",
     "output_type": "stream",
     "text": [
      "['All', 'KELAPA_HARAPAN', 'LANCANG', 'MARINA', 'ANGKE', 'PARI', 'PRAMUKA_PANGGANG', 'SABIRA', 'TIDUNG_PAYUNG', 'UNTUNG_JAWA']\n"
     ]
    }
   ],
   "source": [
    "# load kapal dataset\n",
    "import xlrd\n",
    "xlsx = xlrd.open_workbook(path_main+df_kapal_pelabuhan, on_demand=True)\n",
    "sheet_names = xlsx.sheet_names()\n",
    "print(sheet_names)"
   ]
  },
  {
   "cell_type": "code",
   "execution_count": 13,
   "metadata": {},
   "outputs": [
    {
     "data": {
      "text/html": [
       "<div>\n",
       "<style scoped>\n",
       "    .dataframe tbody tr th:only-of-type {\n",
       "        vertical-align: middle;\n",
       "    }\n",
       "\n",
       "    .dataframe tbody tr th {\n",
       "        vertical-align: top;\n",
       "    }\n",
       "\n",
       "    .dataframe thead th {\n",
       "        text-align: right;\n",
       "    }\n",
       "</style>\n",
       "<table border=\"1\" class=\"dataframe\">\n",
       "  <thead>\n",
       "    <tr style=\"text-align: right;\">\n",
       "      <th></th>\n",
       "      <th>tanggal</th>\n",
       "      <th>kapal_berangkat_KELAPA/HARAPAN</th>\n",
       "      <th>kapal_berangkat_LANCANG</th>\n",
       "      <th>kapal_berangkat_MARINA ANCOL</th>\n",
       "      <th>kapal_berangkat_MUARA ANGKE</th>\n",
       "      <th>kapal_berangkat_PARI</th>\n",
       "      <th>kapal_berangkat_PRAMUKA/PANGGANG</th>\n",
       "      <th>kapal_berangkat_SABIRA</th>\n",
       "      <th>kapal_berangkat_TIDUNG/PAYUNG</th>\n",
       "      <th>kapal_berangkat_UNTUNG JAWA</th>\n",
       "      <th>...</th>\n",
       "      <th>penumpang_turun_MARINA ANCOL</th>\n",
       "      <th>penumpang_turun_MUARA ANGKE</th>\n",
       "      <th>penumpang_turun_PARI</th>\n",
       "      <th>penumpang_turun_PRAMUKA/PANGGANG</th>\n",
       "      <th>penumpang_turun_SABIRA</th>\n",
       "      <th>penumpang_turun_TIDUNG/PAYUNG</th>\n",
       "      <th>penumpang_turun_UNTUNG JAWA</th>\n",
       "      <th>Jumlah_Kapal</th>\n",
       "      <th>Jumlah_Penumpang</th>\n",
       "      <th>Positif_Harian</th>\n",
       "    </tr>\n",
       "  </thead>\n",
       "  <tbody>\n",
       "    <tr>\n",
       "      <th>0</th>\n",
       "      <td>2019-01-01</td>\n",
       "      <td>2.0</td>\n",
       "      <td>3.0</td>\n",
       "      <td>6.0</td>\n",
       "      <td>8.0</td>\n",
       "      <td>5.0</td>\n",
       "      <td>3.0</td>\n",
       "      <td>NaN</td>\n",
       "      <td>6.0</td>\n",
       "      <td>5.0</td>\n",
       "      <td>...</td>\n",
       "      <td>603.0</td>\n",
       "      <td>1383.0</td>\n",
       "      <td>63.0</td>\n",
       "      <td>131.0</td>\n",
       "      <td>NaN</td>\n",
       "      <td>106.0</td>\n",
       "      <td>106.0</td>\n",
       "      <td>83.0</td>\n",
       "      <td>4197.0</td>\n",
       "      <td>0</td>\n",
       "    </tr>\n",
       "    <tr>\n",
       "      <th>1</th>\n",
       "      <td>2019-01-02</td>\n",
       "      <td>1.5</td>\n",
       "      <td>4.0</td>\n",
       "      <td>6.0</td>\n",
       "      <td>8.0</td>\n",
       "      <td>4.0</td>\n",
       "      <td>2.0</td>\n",
       "      <td>NaN</td>\n",
       "      <td>3.0</td>\n",
       "      <td>6.0</td>\n",
       "      <td>...</td>\n",
       "      <td>446.0</td>\n",
       "      <td>445.0</td>\n",
       "      <td>48.0</td>\n",
       "      <td>146.0</td>\n",
       "      <td>NaN</td>\n",
       "      <td>92.0</td>\n",
       "      <td>208.0</td>\n",
       "      <td>69.5</td>\n",
       "      <td>3002.0</td>\n",
       "      <td>0</td>\n",
       "    </tr>\n",
       "    <tr>\n",
       "      <th>2</th>\n",
       "      <td>2019-01-03</td>\n",
       "      <td>2.5</td>\n",
       "      <td>2.0</td>\n",
       "      <td>4.0</td>\n",
       "      <td>8.0</td>\n",
       "      <td>4.0</td>\n",
       "      <td>3.0</td>\n",
       "      <td>NaN</td>\n",
       "      <td>4.0</td>\n",
       "      <td>5.0</td>\n",
       "      <td>...</td>\n",
       "      <td>240.0</td>\n",
       "      <td>243.0</td>\n",
       "      <td>138.0</td>\n",
       "      <td>114.0</td>\n",
       "      <td>NaN</td>\n",
       "      <td>102.0</td>\n",
       "      <td>140.0</td>\n",
       "      <td>61.5</td>\n",
       "      <td>2303.0</td>\n",
       "      <td>0</td>\n",
       "    </tr>\n",
       "    <tr>\n",
       "      <th>3</th>\n",
       "      <td>2019-01-04</td>\n",
       "      <td>2.5</td>\n",
       "      <td>4.0</td>\n",
       "      <td>10.0</td>\n",
       "      <td>8.0</td>\n",
       "      <td>3.0</td>\n",
       "      <td>3.0</td>\n",
       "      <td>NaN</td>\n",
       "      <td>5.0</td>\n",
       "      <td>4.0</td>\n",
       "      <td>...</td>\n",
       "      <td>250.0</td>\n",
       "      <td>385.0</td>\n",
       "      <td>150.0</td>\n",
       "      <td>141.0</td>\n",
       "      <td>NaN</td>\n",
       "      <td>141.0</td>\n",
       "      <td>138.0</td>\n",
       "      <td>79.5</td>\n",
       "      <td>2632.0</td>\n",
       "      <td>0</td>\n",
       "    </tr>\n",
       "    <tr>\n",
       "      <th>4</th>\n",
       "      <td>2019-01-05</td>\n",
       "      <td>2.0</td>\n",
       "      <td>4.0</td>\n",
       "      <td>7.0</td>\n",
       "      <td>10.0</td>\n",
       "      <td>4.0</td>\n",
       "      <td>3.0</td>\n",
       "      <td>NaN</td>\n",
       "      <td>6.0</td>\n",
       "      <td>7.0</td>\n",
       "      <td>...</td>\n",
       "      <td>266.0</td>\n",
       "      <td>299.0</td>\n",
       "      <td>167.0</td>\n",
       "      <td>344.0</td>\n",
       "      <td>NaN</td>\n",
       "      <td>377.0</td>\n",
       "      <td>216.0</td>\n",
       "      <td>84.0</td>\n",
       "      <td>3639.5</td>\n",
       "      <td>0</td>\n",
       "    </tr>\n",
       "  </tbody>\n",
       "</table>\n",
       "<p>5 rows × 40 columns</p>\n",
       "</div>"
      ],
      "text/plain": [
       "      tanggal  kapal_berangkat_KELAPA/HARAPAN  kapal_berangkat_LANCANG  \\\n",
       "0  2019-01-01                             2.0                      3.0   \n",
       "1  2019-01-02                             1.5                      4.0   \n",
       "2  2019-01-03                             2.5                      2.0   \n",
       "3  2019-01-04                             2.5                      4.0   \n",
       "4  2019-01-05                             2.0                      4.0   \n",
       "\n",
       "   kapal_berangkat_MARINA ANCOL  kapal_berangkat_MUARA ANGKE  \\\n",
       "0                           6.0                          8.0   \n",
       "1                           6.0                          8.0   \n",
       "2                           4.0                          8.0   \n",
       "3                          10.0                          8.0   \n",
       "4                           7.0                         10.0   \n",
       "\n",
       "   kapal_berangkat_PARI  kapal_berangkat_PRAMUKA/PANGGANG  \\\n",
       "0                   5.0                               3.0   \n",
       "1                   4.0                               2.0   \n",
       "2                   4.0                               3.0   \n",
       "3                   3.0                               3.0   \n",
       "4                   4.0                               3.0   \n",
       "\n",
       "   kapal_berangkat_SABIRA  kapal_berangkat_TIDUNG/PAYUNG  \\\n",
       "0                     NaN                            6.0   \n",
       "1                     NaN                            3.0   \n",
       "2                     NaN                            4.0   \n",
       "3                     NaN                            5.0   \n",
       "4                     NaN                            6.0   \n",
       "\n",
       "   kapal_berangkat_UNTUNG JAWA  ...  penumpang_turun_MARINA ANCOL  \\\n",
       "0                          5.0  ...                         603.0   \n",
       "1                          6.0  ...                         446.0   \n",
       "2                          5.0  ...                         240.0   \n",
       "3                          4.0  ...                         250.0   \n",
       "4                          7.0  ...                         266.0   \n",
       "\n",
       "   penumpang_turun_MUARA ANGKE  penumpang_turun_PARI  \\\n",
       "0                       1383.0                  63.0   \n",
       "1                        445.0                  48.0   \n",
       "2                        243.0                 138.0   \n",
       "3                        385.0                 150.0   \n",
       "4                        299.0                 167.0   \n",
       "\n",
       "   penumpang_turun_PRAMUKA/PANGGANG  penumpang_turun_SABIRA  \\\n",
       "0                             131.0                     NaN   \n",
       "1                             146.0                     NaN   \n",
       "2                             114.0                     NaN   \n",
       "3                             141.0                     NaN   \n",
       "4                             344.0                     NaN   \n",
       "\n",
       "   penumpang_turun_TIDUNG/PAYUNG  penumpang_turun_UNTUNG JAWA  Jumlah_Kapal  \\\n",
       "0                          106.0                        106.0          83.0   \n",
       "1                           92.0                        208.0          69.5   \n",
       "2                          102.0                        140.0          61.5   \n",
       "3                          141.0                        138.0          79.5   \n",
       "4                          377.0                        216.0          84.0   \n",
       "\n",
       "   Jumlah_Penumpang  Positif_Harian  \n",
       "0            4197.0               0  \n",
       "1            3002.0               0  \n",
       "2            2303.0               0  \n",
       "3            2632.0               0  \n",
       "4            3639.5               0  \n",
       "\n",
       "[5 rows x 40 columns]"
      ]
     },
     "execution_count": 13,
     "metadata": {},
     "output_type": "execute_result"
    }
   ],
   "source": [
    "# load kapal dataset for all\n",
    "df_all_kapal = pd.read_excel(path_main+df_kapal_pelabuhan, sheet_name='All')\n",
    "df_all_kapal.head()"
   ]
  },
  {
   "cell_type": "code",
   "execution_count": 15,
   "metadata": {},
   "outputs": [
    {
     "data": {
      "image/png": "[encoded data removed]",
      "text/plain": [
       "<Figure size 864x576 with 2 Axes>"
      ]
     },
     "metadata": {
      "needs_background": "light"
     },
     "output_type": "display_data"
    }
   ],
   "source": [
    "df_procc = df_all_kapal[[\"Jumlah_Kapal\", \"Jumlah_Penumpang\", \"Positif_Harian\"]]\n",
    "\n",
    "# visualize correlation pearson\n",
    "\n",
    "plt.figure(figsize=(12, 8))\n",
    "\n",
    "heatmap = sns.heatmap(df_procc.corr(method=\"pearson\"), vmin=-1, vmax=1, annot=True)\n",
    "\n",
    "heatmap.set_title('Correlation Pearson: Kasus Positif COVID-19 Harian x Total Jumlah Penumpang & Kapal Seluruh Pelabuhan 2019-2020', fontdict={'fontsize':14}, pad=20);"
   ]
  },
  {
   "cell_type": "markdown",
   "metadata": {},
   "source": [
    "#### Total Jumlah Penumpang Seluruh Pelabuhan vs Jumlah Positif Harian COVID-19 DKI Jakarta 2019-2020 | Sumber Data: Internal\n",
    "\n",
    "![alt text](img/penumpang_kapan_covid.png \"Jumlah Penumpang Seluruh Pelabuhan vs Jumlah Positif Harian COVID-19 DKI Jakarta 2019-2020\")\n",
    "\n",
    "#### Total Jumlah Kapal Seluruh Pelabuhan vs Jumlah Positif Harian COVID-19 DKI Jakarta 2019-2020 | Sumber Data: Internal\n",
    "\n",
    "![alt text](img/kapal_covid.png \"Jumlah Kapal Seluruh Pelabuhan vs Jumlah Positif Harian COVID-19 DKI Jakarta 2019-2020\")"
   ]
  },
  {
   "cell_type": "code",
   "execution_count": 16,
   "metadata": {},
   "outputs": [
    {
     "name": "stdout",
     "output_type": "stream",
     "text": [
      "Check confidence of correlation Positif Harian x Jumlah Kapal\n",
      "                            OLS Regression Results                            \n",
      "==============================================================================\n",
      "Dep. Variable:         Positif_Harian   R-squared:                       0.127\n",
      "Model:                            OLS   Adj. R-squared:                  0.125\n",
      "Method:                 Least Squares   F-statistic:                     83.57\n",
      "Date:                Mon, 11 Oct 2021   Prob (F-statistic):           1.05e-18\n",
      "Time:                        16:27:00   Log-Likelihood:                -3343.2\n",
      "No. Observations:                 578   AIC:                             6690.\n",
      "Df Residuals:                     576   BIC:                             6699.\n",
      "Df Model:                           1                                         \n",
      "Covariance Type:            nonrobust                                         \n",
      "================================================================================\n",
      "                   coef    std err          t      P>|t|      [0.025      0.975]\n",
      "--------------------------------------------------------------------------------\n",
      "Intercept      114.3013      9.102     12.558      0.000      96.424     132.178\n",
      "Jumlah_Kapal    -0.8029      0.088     -9.141      0.000      -0.975      -0.630\n",
      "==============================================================================\n",
      "Omnibus:                      366.387   Durbin-Watson:                   0.211\n",
      "Prob(Omnibus):                  0.000   Jarque-Bera (JB):             2990.073\n",
      "Skew:                           2.817   Prob(JB):                         0.00\n",
      "Kurtosis:                      12.613   Cond. No.                         288.\n",
      "==============================================================================\n",
      "\n",
      "Notes:\n",
      "[1] Standard Errors assume that the covariance matrix of the errors is correctly specified.\n"
     ]
    }
   ],
   "source": [
    "# check confidence of correlation\n",
    "print(\"Check confidence of correlation Positif Harian x Jumlah Kapal\")\n",
    "model = ols(\"Positif_Harian ~ Jumlah_Kapal\", data=df_procc).fit()\n",
    "print(model.summary())"
   ]
  },
  {
   "cell_type": "code",
   "execution_count": 17,
   "metadata": {},
   "outputs": [
    {
     "name": "stdout",
     "output_type": "stream",
     "text": [
      "Check confidence of correlation Positif Harian x Jumlah Penumpang\n",
      "                            OLS Regression Results                            \n",
      "==============================================================================\n",
      "Dep. Variable:         Positif_Harian   R-squared:                       0.100\n",
      "Model:                            OLS   Adj. R-squared:                  0.098\n",
      "Method:                 Least Squares   F-statistic:                     63.67\n",
      "Date:                Mon, 11 Oct 2021   Prob (F-statistic):           8.00e-15\n",
      "Time:                        16:27:30   Log-Likelihood:                -3352.1\n",
      "No. Observations:                 578   AIC:                             6708.\n",
      "Df Residuals:                     576   BIC:                             6717.\n",
      "Df Model:                           1                                         \n",
      "Covariance Type:            nonrobust                                         \n",
      "====================================================================================\n",
      "                       coef    std err          t      P>|t|      [0.025      0.975]\n",
      "------------------------------------------------------------------------------------\n",
      "Intercept           61.1955      4.530     13.510      0.000      52.299      70.092\n",
      "Jumlah_Penumpang    -0.0064      0.001     -7.979      0.000      -0.008      -0.005\n",
      "==============================================================================\n",
      "Omnibus:                      369.047   Durbin-Watson:                   0.201\n",
      "Prob(Omnibus):                  0.000   Jarque-Bera (JB):             3005.714\n",
      "Skew:                           2.847   Prob(JB):                         0.00\n",
      "Kurtosis:                      12.611   Cond. No.                     7.68e+03\n",
      "==============================================================================\n",
      "\n",
      "Notes:\n",
      "[1] Standard Errors assume that the covariance matrix of the errors is correctly specified.\n",
      "[2] The condition number is large, 7.68e+03. This might indicate that there are\n",
      "strong multicollinearity or other numerical problems.\n"
     ]
    }
   ],
   "source": [
    "# check confidence of correlation\n",
    "print(\"Check confidence of correlation Positif Harian x Jumlah Penumpang\")\n",
    "model = ols(\"Positif_Harian ~ Jumlah_Penumpang\", data=df_procc).fit()\n",
    "print(model.summary())"
   ]
  },
  {
   "cell_type": "markdown",
   "metadata": {},
   "source": [
    "#### Hasil Kapal(All):\n",
    "🧩🧩🧩\n",
    "- Nilai korelasi Pearson Kasus Positif COVID-19 Harian x Jumlah Kapal dan Penumpang masing-masing adalah -0.36 dan -0.32.<br>\n",
    "- Nilai minus pada korelasi menandakan bahwa slope(garis miring) hubungan dua variabel bernilai negatif, semakin mendekati -1 berarti memiliki hubungan negatif yang kuat, dan sebaliknya.<br>\n",
    "- Untuk melinai signifikansi nilai korelasi, diperlukan p-value. P-value bernilai kecil menandakan H0 ditolak dan H alternatif diterima, pada hasil diatas kedua nilai p-value mendekati 0, artinya ~ 99% masing-masing pasangan variabel tersebut memiliki hubungan yang kuat dan signifikan. <br>\n",
    "- Data observasi didapat dari tahun 2019 sampai 2021, namun ada data pada bulan tertentu yang hilang. **Saran kami sebaiknya instansi terkait melengkapi data tersebut agar hasil analisis lebih representatif**. Namun dari data ini pun sudah cukup menunjukkan adanya penurunan dan korelasi yang signifikan.\n",
    "- **Langkah kami selanjutnya adalah mencoba membuat model Regresi agar meskipun terjadi penurunan namun pelaku usaha tidak merugi secara drastis, didukung dengan asumsi dan fakta yang relevan.**<br>\n",
    "- **Data observasi kapal feri merupakan data internal yang paling banyak jumlah barisnya, dan menarik untuk kita modelkan menggunakan Machine Learning, sehingga hasil prediksi yang didapat nantinya dapat mendukung rekomendasi bisnis usaha kapal feri di masa pandemi ini yang cenderung menurun**."
   ]
  },
  {
   "cell_type": "markdown",
   "metadata": {},
   "source": [
    "#### c.4.1. <br>\n",
    "#### Contoh hubungan antara Kasus Harian COVID-19 dengan Jumlah Penumpang, setelah discale menggunakan Z scores | Data Internal\n",
    "\n",
    "##### Contoh: Pelabuhan Kelapa/Harapan\n",
    "\n",
    "![alt text](img/zscores_eq.png \"Z Score Equation\")\n",
    "\n",
    "![alt text](img/zscores_covid_penumpang.png \"Hubungan antara Kasus Harian COVID-19 dengan Jumlah Penumpang\")\n",
    "\n",
    "![alt text](img/zscores_kapal_penumpang.png \"Hubungan antara Jumlah Penumpang dengan Jumlah Kapal\")"
   ]
  },
  {
   "cell_type": "markdown",
   "metadata": {},
   "source": [
    "#### Hasil Pelabuhan Kelapa/Harapan:\n",
    "🧩🧩🧩\n",
    "\n",
    "- Jumlah Kapal yang Beroperasi Harian dan Jumlah Penumpang Harian di pelabuhanKelapa/Harapan cenderung menunjukkan visualisasi yang tumpang tindih, ini menunjukkan bahwa setelah dilakukan scaling dataset, jumlah kapal yang beroperasi dan jumlah penumpang cenderung sama. <br>\n",
    "- Sedangkan pada Visualisasi Z Score Jumlah Kasus Positif COVID-19 Harian dan Jumlah Penumpang Harian, nilai z score cenderung saling bertolak satu sama lain, ketika nilai Kasus positif harian covid-19 negatif jumlah penumpang harian cenderung positif.<br>\n",
    "- **Kami akan membuat model prediksi Jumlah Penumpang Harian dan Jumlah Kapal Beroperasi harian, agar menjadi rekomendasi seberapa banyak kapal yang sebaiknya beroperasi dan berapa banyak jumlah penumpang yang ada. Rekomendasi jumlah kapal yang beroperasi akan menghemat biaya operasional pelaku usaha transportasi kapal cepat di Kepulauan Seribu.**"
   ]
  },
  {
   "cell_type": "markdown",
   "metadata": {},
   "source": [
    "## 2. Kesimpulan Hasil Analisis\n",
    "\n",
    "- Kasus Positif Harian dan Indeks Kepercayaan Konsumen<br>\n",
    "    - Penambahan kasus harian COVID-19 berkorelasi negatif terhadap Indeks Kepercayaan Konsumen (IKK). Hal ini berarti semakin tinggi kasus harian/bulanan COVID-19 maka IKK akan cenderung menurun, semakin kecil nilai IKK maka menandakan pertumbuhan ekonomi yang melambat.<br>\n",
    "- Tingkat Pengangguran Terbuka<br>\n",
    "    - Dampak pandemi menambah jumlah pengangguran karena berbagai faktor, sangat menarik untuk menganalisis lebih lanjut namun sayang data internal yang tersaji hanya data lampau dan kami belum menemukan data proxy yang relevan untuk melakukan analisis lebih lanjut.<br>\n",
    "- MRT,LRT, dan Transjakarta <br>\n",
    "    - MRT,LRT dan Transjakarta mengalamin penurunan drastis penumpang dibandingkan waktu sebelum pandemi (2019-Februari 2020). Namun yang menarik adalah klaim PT MRT Jakarta yang justru mendapatkan keuntungan selama masa pandemi.<br>\n",
    "- Kapal Cepat Kepulauan Seribu<br>\n",
    "    - Penambahan kasus harian COVID-19 berkorelasi negatif terhadap variabel Jumlah Penumpang dan Jumlah Kapal beroperasi. Hal ini berarti semakin tinggi kasus harian COVID-19 maka jumlah penumpang dan kapal yang beroperasi akan cenderung menurun. Menurunnya jumlah penumpang dan kapal yang beroperasi akan merugikan pelaku usaha transportasi ini, perlu adanya rekomendasi jumlah kapal yang sebaiknya beroperasi perhari berdasarkan kondisi kesehatan (kasus COVID-19) yang tersedia."
   ]
  },
  {
   "cell_type": "markdown",
   "metadata": {},
   "source": [
    "## 3. Rekomendasi dan Saran Hasil Analisis\n",
    "\n",
    "- Tingkat Pengangguran Terbuka<br>\n",
    "    - Perlu adanya data tambahan untuk analisis lebih lanjut.<br>\n",
    "    - Perlu analisis lebih lanjut mengapa Kota administrasi Jakarta Barat, Jakarta Utara, dan Jakarta Pusat memiliki jumlah pengangguran terbuka yang tinggi, untuk saat ini kami merekomendasikan agar pemerintah lebih mendukung sebaran program bantuan seperti Prakerja dan bantuan langsung di 3 kota administrasi tersebut.<br>\n",
    "- Moda Transportasi MRT Jakarta<br>\n",
    "    - Apabila secara tren jumlah penumpang cenderung menurun, berkolerasi negatif kuat dan signifikan, namun PT MRT Jakarta justru mengalami kenaikan keuntungan, maka ini adalah hal menarik yang patut dijadikan contoh di sektor transportasi lain dari sisi bisnis.<br>\n",
    "- Kapal Cepat Kepulauan Seribu<br>\n",
    "    - Data observasi kapal feri merupakan data internal yang paling banyak jumlah barisnya, dan menarik untuk kita modelkan menggunakan Machine Learning, sehingga hasil prediksi yang didapat nantinya dapat mendukung rekomendasi bisnis usaha kapal feri di masa pandemi ini yang cenderung menurun. Rekomendasi jumlah kapal yang beroperasi akan menghemat biaya operasional pelaku usaha transportasi kapal cepat di Kepulauan Seribu.<br>"
   ]
  },
  {
   "cell_type": "code",
   "execution_count": null,
   "metadata": {},
   "outputs": [],
   "source": []
  }
 ],
 "metadata": {
  "kernelspec": {
   "display_name": "Python 3",
   "language": "python",
   "name": "python3"
  },
  "language_info": {
   "codemirror_mode": {
    "name": "ipython",
    "version": 3
   },
   "file_extension": ".py",
   "mimetype": "text/x-python",
   "name": "python",
   "nbconvert_exporter": "python",
   "pygments_lexer": "ipython3",
   "version": "3.7.4"
  }
 },
 "nbformat": 4,
 "nbformat_minor": 4
}
