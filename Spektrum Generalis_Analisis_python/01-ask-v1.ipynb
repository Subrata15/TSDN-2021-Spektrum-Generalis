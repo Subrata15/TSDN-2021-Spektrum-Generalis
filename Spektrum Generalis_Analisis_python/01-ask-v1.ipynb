{
 "cells": [
  {
   "cell_type": "markdown",
   "metadata": {},
   "source": [
    "# A. TSDN 2021"
   ]
  },
  {
   "cell_type": "markdown",
   "metadata": {},
   "source": [
    "## Turnamen Sains Data 2021 (TSDN 2021)\n",
    "TSDN 2021 merupakan kompetisi data science/datathon berskala nasional yang ditujukan bagi para Penggiat Sains Data ataupun Pemerhati Data<br> (Data Enthusiast). <br>\n",
    "*********************************************************************************************\n",
    "*Seluruh peserta akan diberi tantangan untuk dapat mengidentifikasi pertanyaan atau tantangan bisnis terkini menjadi sebuah solusi analitis, bekerja sama untuk membuat kerangka solusi berbasis data menggunakan perangkat lunak pemrograman dan visualisasi* **dengan tujuan untuk meningkatkan kinerja bisnis dan menciptakan peluang baru yang dapat di implementasikan dalam kasus nyata.**\n",
    "*********************************************************************************************"
   ]
  },
  {
   "cell_type": "markdown",
   "metadata": {},
   "source": [
    "### Tantangan\n",
    "- **Mengidentifikasi pertanyaan atau tantangan bisnis terkini**<br>\n",
    "- **Bekerja sama untuk membuat kerangka solusi berbasis data**<br>\n",
    "- **Meningkatkan kinerja bisnis**<br>\n",
    "- **Menciptakan peluang baru yang dapat di implementasikan**"
   ]
  },
  {
   "cell_type": "markdown",
   "metadata": {},
   "source": [
    "### Goverment Institution\n",
    "![alt text](img/gov_inst.png \"Gov Institution\")"
   ]
  },
  {
   "cell_type": "markdown",
   "metadata": {},
   "source": [
    "# B. Spektrum Generalist\n",
    "\n",
    "#### Topik: Mempertahankan value bisnis dan membuka peluang baru sektor ekonomi pemerintah/swasta di DKI Jakarta akibat pandemi\n",
    "Topik Related: Kesehatan, Pariwisata, Transportasi, Ketimpangan sosial, UMKM, Informal"
   ]
  },
  {
   "cell_type": "markdown",
   "metadata": {},
   "source": [
    "### Identifikasi pertanyaan atau tantangan bisnis terkini"
   ]
  },
  {
   "cell_type": "markdown",
   "metadata": {},
   "source": [
    "##### Description\n",
    "1. Analisis Deskripsi kondisi pandemi terhadap sektor swasta, pemerintah (transportasi, pariwisata, dsb), dan sosial ekonomi<br>\n",
    "\n",
    "2. Rekomendasi dan saran terhadap kebijakan pemerintah untuk menyelamatkan sektor kritikal terdampak pandemi<br>\n",
    "\n",
    "3. Rekomendasi value bisnis terhadap sektor swasta dan pemerintah untuk bertahan dan membuka peluang baru<br>\n",
    "\n",
    "\n",
    "##### Recommendation\n",
    "- Berikan rekomendasi kepada pemerintah dari pola yang telah ditemukan untuk memperbaiki/mengoptimalkan kondisi sosial masyarakat<br>\n",
    "- Berikan rekomendasi kepada pihak terkait agar kondisi usahanya tidak signifikan mengalami kerugian bisnis<br>\n"
   ]
  },
  {
   "cell_type": "code",
   "execution_count": null,
   "metadata": {},
   "outputs": [],
   "source": []
  }
 ],
 "metadata": {
  "kernelspec": {
   "display_name": "Python 3",
   "language": "python",
   "name": "python3"
  },
  "language_info": {
   "codemirror_mode": {
    "name": "ipython",
    "version": 3
   },
   "file_extension": ".py",
   "mimetype": "text/x-python",
   "name": "python",
   "nbconvert_exporter": "python",
   "pygments_lexer": "ipython3",
   "version": "3.7.4"
  }
 },
 "nbformat": 4,
 "nbformat_minor": 4
}
